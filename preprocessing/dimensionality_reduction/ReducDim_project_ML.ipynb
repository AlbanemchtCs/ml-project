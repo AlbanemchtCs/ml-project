{
  "nbformat": 4,
  "nbformat_minor": 0,
  "metadata": {
    "colab": {
      "provenance": []
    },
    "kernelspec": {
      "display_name": "Python 3",
      "language": "python",
      "name": "python3"
    },
    "language_info": {
      "codemirror_mode": {
        "name": "ipython",
        "version": 3
      },
      "file_extension": ".py",
      "mimetype": "text/x-python",
      "name": "python",
      "nbconvert_exporter": "python",
      "pygments_lexer": "ipython3",
      "version": "3.7.6"
    },
    "nav_menu": {
      "height": "279px",
      "width": "309px"
    },
    "toc": {
      "nav_menu": {},
      "number_sections": true,
      "sideBar": true,
      "skip_h1_title": false,
      "toc_cell": false,
      "toc_position": {},
      "toc_section_display": "block",
      "toc_window_display": false
    }
  },
  "cells": [
    {
      "cell_type": "markdown",
      "metadata": {
        "id": "lGBlly4hhvAZ"
      },
      "source": [
        "<h6><center>Project Machine Learning</center></h6>\n",
        "\n",
        "<h1>\n",
        "<hr style=\" border:none; height:3px;\">\n",
        "<center>Part 2 - Data Cleaning : Dimensionality Reduction </center>\n",
        "<hr style=\" border:none; height:3px;\">\n",
        "</h1>\n",
        "\n"
      ]
    },
    {
      "cell_type": "markdown",
      "metadata": {
        "id": "i3tJ-vDfhvAd"
      },
      "source": [
        "We are going to test out these different approaches for dimensionality reduction :\n",
        "\n",
        "+ Best/Forward/Backward selection and evaluation methods (adjusted training error, validation set, cross validation)\n",
        "+ PCA (tunning of $M$ value, visualization and interpretation of the plots"
      ]
    },
    {
      "cell_type": "code",
      "source": [
        "from google.colab import drive\n",
        "drive.mount('/content/drive')"
      ],
      "metadata": {
        "colab": {
          "base_uri": "https://localhost:8080/"
        },
        "id": "uws7VXKbK0Ha",
        "outputId": "06036c2a-6692-4e65-d885-2e427bf2ac27"
      },
      "execution_count": 1,
      "outputs": [
        {
          "output_type": "stream",
          "name": "stdout",
          "text": [
            "Mounted at /content/drive\n"
          ]
        }
      ]
    },
    {
      "cell_type": "markdown",
      "metadata": {
        "id": "KCKKIbZCi4gq"
      },
      "source": [
        "## Setup\n"
      ]
    }
  ]
}