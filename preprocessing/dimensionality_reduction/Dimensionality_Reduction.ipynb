{
 "cells": [
  {
   "cell_type": "markdown",
   "id": "b226f755",
   "metadata": {},
   "source": [
    "# Project Machine Learning\n",
    "## Part 2 - Dimensionality Reduction\n",
    "\n"
   ]
  },
  {
   "cell_type": "markdown",
   "id": "bd0cee0c",
   "metadata": {},
   "source": [
    "We are going to test out these different approaches for dimensionality reduction :\n",
    "\n",
    "+ Best/Forward/Backward selection and evaluation methods (adjusted training error, validation set, cross validation)\n",
    "+ PCA (tunning of $M$ value, visualization and interpretation of the plots"
   ]
  },
  {
   "cell_type": "markdown",
   "id": "cb0389e9",
   "metadata": {},
   "source": [
    "## Setup"
   ]
  },
  {
   "cell_type": "code",
   "execution_count": null,
   "id": "d898793b",
   "metadata": {},
   "outputs": [],
   "source": [
    "data = pd.read_csv(\"\")"
   ]
  },
  {
   "cell_type": "code",
   "execution_count": 16,
   "id": "400827aa",
   "metadata": {},
   "outputs": [
    {
     "name": "stdout",
     "output_type": "stream",
     "text": [
      "/Users/albane/Desktop/ML/ml-project/preprocessing\n"
     ]
    }
   ],
   "source": [
    "cd preprocessing"
   ]
  },
  {
   "cell_type": "code",
   "execution_count": 17,
   "id": "513a230b",
   "metadata": {},
   "outputs": [
    {
     "data": {
      "text/plain": [
       "'/Users/albane/Desktop/ML/ml-project/preprocessing'"
      ]
     },
     "execution_count": 17,
     "metadata": {},
     "output_type": "execute_result"
    }
   ],
   "source": [
    "pwd"
   ]
  },
  {
   "cell_type": "code",
   "execution_count": 15,
   "id": "25c1337c",
   "metadata": {},
   "outputs": [
    {
     "name": "stdout",
     "output_type": "stream",
     "text": [
      "README.md         \u001b[34mmodels\u001b[m\u001b[m/           \u001b[34mpreprocessing\u001b[m\u001b[m/    requirements.txt\r\n"
     ]
    }
   ],
   "source": [
    "ls"
   ]
  }
 ],
 "metadata": {
  "kernelspec": {
   "display_name": "Python 3 (ipykernel)",
   "language": "python",
   "name": "python3"
  },
  "language_info": {
   "codemirror_mode": {
    "name": "ipython",
    "version": 3
   },
   "file_extension": ".py",
   "mimetype": "text/x-python",
   "name": "python",
   "nbconvert_exporter": "python",
   "pygments_lexer": "ipython3",
   "version": "3.9.7"
  }
 },
 "nbformat": 4,
 "nbformat_minor": 5
}
