{
 "cells": [
  {
   "cell_type": "code",
   "execution_count": 36,
   "metadata": {},
   "outputs": [],
   "source": [
    "import pandas as pd\n",
    "import numpy as np\n",
    "\n",
    "train_airbnb_df = pd.read_csv(\"/Users/cha/Desktop/3A/code/ml-project/data/train_airbnb_berlin_cleaned.csv\")\n",
    "test_airbnb_df = pd.read_csv(\"/Users/cha/Desktop/3A/code/ml-project/data/test_airbnb_berlin.csv\")"
   ]
  }
 ],
 "metadata": {
  "kernelspec": {
   "display_name": "Python 3.8.13 ('ml_project')",
   "language": "python",
   "name": "python3"
  },
  "language_info": {
   "codemirror_mode": {
    "name": "ipython",
    "version": 3
   },
   "file_extension": ".py",
   "mimetype": "text/x-python",
   "name": "python",
   "nbconvert_exporter": "python",
   "pygments_lexer": "ipython3",
   "version": "3.8.13"
  },
  "orig_nbformat": 4,
  "vscode": {
   "interpreter": {
    "hash": "765b804a130806fdbd98523917e08fa23c88cfaa5d1f0587a65f3e3614e5589b"
   }
  }
 },
 "nbformat": 4,
 "nbformat_minor": 2
}
