{
 "cells": [
  {
   "cell_type": "code",
   "execution_count": 90,
   "metadata": {},
   "outputs": [],
   "source": [
    "import pandas as pd\n",
    "import numpy as np\n",
    "\n",
    "train_airbnb_df = pd.read_csv(\"/Users/cha/Desktop/3A/code/ml-project/data/train_airbnb_berlin.csv\")\n",
    "test_airbnb_df = pd.read_csv(\"/Users/cha/Desktop/3A/code/ml-project/data/test_airbnb_berlin.csv\")\n",
    "\n",
    "# Deleting useless features\n",
    "features = [\n",
    "       'Listing ID',\n",
    "       # 'Listing Name',\n",
    "       'Host ID',\n",
    "       'Host Name',\n",
    "       'Host Since',\n",
    "       # 'Host Response Time',\n",
    "       # 'Host Response Rate',\n",
    "       'Is Superhost',\n",
    "       'neighbourhood',\n",
    "       'Neighborhood Group',\n",
    "       # 'City',  \n",
    "       'Postal Code',\n",
    "       'Latitude',\n",
    "       'Longitude',\n",
    "       # 'Country Code',\n",
    "       # 'Country',\n",
    "       'Is Exact Location',\n",
    "       'Property Type',\n",
    "       'Room Type',\n",
    "       'Accomodates',\n",
    "       'Bathrooms',\n",
    "       'Bedrooms',\n",
    "       'Beds',\n",
    "       # 'Square Feet',\n",
    "       'Guests Included',\n",
    "       'Min Nights',\n",
    "       'Reviews',\n",
    "       'First Review',\n",
    "       'Last Review',\n",
    "       'Overall Rating',\n",
    "       'Accuracy Rating',\n",
    "       'Cleanliness Rating',\n",
    "       'Checkin Rating',\n",
    "       'Communication Rating',\n",
    "       'Location Rating',\n",
    "       'Value Rating',\n",
    "       'Instant Bookable',\n",
    "       'Business Travel Ready',\n",
    "       'Price'\n",
    "]\n",
    "\n",
    "train_airbnb_df = train_airbnb_df[features].dropna() #subset=[\"Price\"])\n",
    "test_airbnb_df = test_airbnb_df[features[:-1]]"
   ]
  },
  {
   "cell_type": "code",
   "execution_count": 91,
   "metadata": {},
   "outputs": [
    {
     "name": "stdout",
     "output_type": "stream",
     "text": [
      "<class 'pandas.core.frame.DataFrame'>\n",
      "Int64Index: 12496 entries, 0 to 15690\n",
      "Data columns (total 32 columns):\n",
      " #   Column                 Non-Null Count  Dtype  \n",
      "---  ------                 --------------  -----  \n",
      " 0   Listing ID             12496 non-null  float64\n",
      " 1   Host ID                12496 non-null  float64\n",
      " 2   Host Name              12496 non-null  object \n",
      " 3   Host Since             12496 non-null  object \n",
      " 4   Is Superhost           12496 non-null  object \n",
      " 5   neighbourhood          12496 non-null  object \n",
      " 6   Neighborhood Group     12496 non-null  object \n",
      " 7   Postal Code            12496 non-null  object \n",
      " 8   Latitude               12496 non-null  float64\n",
      " 9   Longitude              12496 non-null  float64\n",
      " 10  Is Exact Location      12496 non-null  object \n",
      " 11  Property Type          12496 non-null  object \n",
      " 12  Room Type              12496 non-null  object \n",
      " 13  Accomodates            12496 non-null  object \n",
      " 14  Bathrooms              12496 non-null  object \n",
      " 15  Bedrooms               12496 non-null  object \n",
      " 16  Beds                   12496 non-null  object \n",
      " 17  Guests Included        12496 non-null  object \n",
      " 18  Min Nights             12496 non-null  object \n",
      " 19  Reviews                12496 non-null  int64  \n",
      " 20  First Review           12496 non-null  object \n",
      " 21  Last Review            12496 non-null  object \n",
      " 22  Overall Rating         12496 non-null  float64\n",
      " 23  Accuracy Rating        12496 non-null  float64\n",
      " 24  Cleanliness Rating     12496 non-null  float64\n",
      " 25  Checkin Rating         12496 non-null  float64\n",
      " 26  Communication Rating   12496 non-null  float64\n",
      " 27  Location Rating        12496 non-null  float64\n",
      " 28  Value Rating           12496 non-null  float64\n",
      " 29  Instant Bookable       12496 non-null  object \n",
      " 30  Business Travel Ready  12496 non-null  object \n",
      " 31  Price                  12496 non-null  float64\n",
      "dtypes: float64(12), int64(1), object(19)\n",
      "memory usage: 3.1+ MB\n"
     ]
    }
   ],
   "source": [
    "train_airbnb_df.info()"
   ]
  },
  {
   "cell_type": "markdown",
   "metadata": {},
   "source": [
    "### Encoding categorical variables"
   ]
  },
  {
   "cell_type": "markdown",
   "metadata": {},
   "source": [
    "OH for categorical variables with no hierarchy between values"
   ]
  },
  {
   "cell_type": "code",
   "execution_count": 92,
   "metadata": {},
   "outputs": [
    {
     "name": "stdout",
     "output_type": "stream",
     "text": [
      "Number of columns:  62\n"
     ]
    }
   ],
   "source": [
    "OH_columns = [\n",
    "    \"Neighborhood Group\",\n",
    "    \"Is Exact Location\",\n",
    "    \"Property Type\",\n",
    "    \"Room Type\",\n",
    "    \"Instant Bookable\",\n",
    "    \"Business Travel Ready\"\n",
    "] \n",
    "\n",
    "dummies = pd.get_dummies(train_airbnb_df[OH_columns])\n",
    "\n",
    "# Drop the column with the independent and target variable (Salary), and columns for which we created dummy variables\n",
    "train_airbnb_df = train_airbnb_df.drop(OH_columns, axis=1)\n",
    "\n",
    "# Define the feature set X, our matrix data\n",
    "train_airbnb_df = pd.concat([train_airbnb_df, dummies], axis=1)\n",
    "print(\"Number of columns: \", len(train_airbnb_df.columns))"
   ]
  },
  {
   "cell_type": "markdown",
   "metadata": {},
   "source": [
    "Encoding for variable with hierarchy between values"
   ]
  },
  {
   "cell_type": "code",
   "execution_count": 93,
   "metadata": {},
   "outputs": [],
   "source": [
    "encoding_column = \"Is Superhost\"\n",
    "train_airbnb_df[encoding_column] = train_airbnb_df[encoding_column].replace(\"t\", 1).replace(\"f\", 0)"
   ]
  },
  {
   "cell_type": "markdown",
   "metadata": {},
   "source": [
    "Encoding for dates"
   ]
  },
  {
   "cell_type": "code",
   "execution_count": null,
   "metadata": {},
   "outputs": [],
   "source": []
  },
  {
   "cell_type": "markdown",
   "metadata": {},
   "source": [
    "### Conversion to float"
   ]
  },
  {
   "cell_type": "code",
   "execution_count": 94,
   "metadata": {},
   "outputs": [
    {
     "name": "stdout",
     "output_type": "stream",
     "text": [
      "<class 'pandas.core.frame.DataFrame'>\n",
      "Int64Index: 12496 entries, 0 to 15690\n",
      "Data columns (total 62 columns):\n",
      " #   Column                                       Non-Null Count  Dtype  \n",
      "---  ------                                       --------------  -----  \n",
      " 0   Listing ID                                   12496 non-null  float64\n",
      " 1   Host ID                                      12496 non-null  float64\n",
      " 2   Host Name                                    12496 non-null  object \n",
      " 3   Host Since                                   12496 non-null  object \n",
      " 4   Is Superhost                                 12496 non-null  int64  \n",
      " 5   neighbourhood                                12496 non-null  object \n",
      " 6   Postal Code                                  12496 non-null  object \n",
      " 7   Latitude                                     12496 non-null  float64\n",
      " 8   Longitude                                    12496 non-null  float64\n",
      " 9   Accomodates                                  12479 non-null  float64\n",
      " 10  Bathrooms                                    12488 non-null  float64\n",
      " 11  Bedrooms                                     12486 non-null  float64\n",
      " 12  Beds                                         12486 non-null  float64\n",
      " 13  Guests Included                              12488 non-null  float64\n",
      " 14  Min Nights                                   12344 non-null  float64\n",
      " 15  Reviews                                      12496 non-null  int64  \n",
      " 16  First Review                                 12496 non-null  object \n",
      " 17  Last Review                                  12496 non-null  object \n",
      " 18  Overall Rating                               12496 non-null  float64\n",
      " 19  Accuracy Rating                              12496 non-null  float64\n",
      " 20  Cleanliness Rating                           12496 non-null  float64\n",
      " 21  Checkin Rating                               12496 non-null  float64\n",
      " 22  Communication Rating                         12496 non-null  float64\n",
      " 23  Location Rating                              12496 non-null  float64\n",
      " 24  Value Rating                                 12496 non-null  float64\n",
      " 25  Price                                        12496 non-null  float64\n",
      " 26  Neighborhood Group_Charlottenburg-Wilm.      12496 non-null  uint8  \n",
      " 27  Neighborhood Group_Friedrichshain-Kreuzberg  12496 non-null  uint8  \n",
      " 28  Neighborhood Group_Lichtenberg               12496 non-null  uint8  \n",
      " 29  Neighborhood Group_Marzahn - Hellersdorf     12496 non-null  uint8  \n",
      " 30  Neighborhood Group_Mitte                     12496 non-null  uint8  \n",
      " 31  Neighborhood Group_NeukÃ¶lln                 12496 non-null  uint8  \n",
      " 32  Neighborhood Group_Pankow                    12496 non-null  uint8  \n",
      " 33  Neighborhood Group_Reinickendorf             12496 non-null  uint8  \n",
      " 34  Neighborhood Group_Spandau                   12496 non-null  uint8  \n",
      " 35  Neighborhood Group_Steglitz - Zehlendorf     12496 non-null  uint8  \n",
      " 36  Neighborhood Group_Tempelhof - SchÃ¶neberg   12496 non-null  uint8  \n",
      " 37  Neighborhood Group_Treptow - KÃ¶penick       12496 non-null  uint8  \n",
      " 38  Is Exact Location_f                          12496 non-null  uint8  \n",
      " 39  Is Exact Location_t                          12496 non-null  uint8  \n",
      " 40  Property Type_*                              12496 non-null  uint8  \n",
      " 41  Property Type_Apartment                      12496 non-null  uint8  \n",
      " 42  Property Type_Bed and breakfast              12496 non-null  uint8  \n",
      " 43  Property Type_Boat                           12496 non-null  uint8  \n",
      " 44  Property Type_Boutique hotel                 12496 non-null  uint8  \n",
      " 45  Property Type_Bungalow                       12496 non-null  uint8  \n",
      " 46  Property Type_Condominium                    12496 non-null  uint8  \n",
      " 47  Property Type_Guest suite                    12496 non-null  uint8  \n",
      " 48  Property Type_Guesthouse                     12496 non-null  uint8  \n",
      " 49  Property Type_Hostel                         12496 non-null  uint8  \n",
      " 50  Property Type_Hotel                          12496 non-null  uint8  \n",
      " 51  Property Type_House                          12496 non-null  uint8  \n",
      " 52  Property Type_Loft                           12496 non-null  uint8  \n",
      " 53  Property Type_Other                          12496 non-null  uint8  \n",
      " 54  Property Type_Serviced apartment             12496 non-null  uint8  \n",
      " 55  Property Type_Townhouse                      12496 non-null  uint8  \n",
      " 56  Room Type_Entire home/apt                    12496 non-null  uint8  \n",
      " 57  Room Type_Private room                       12496 non-null  uint8  \n",
      " 58  Room Type_Shared room                        12496 non-null  uint8  \n",
      " 59  Instant Bookable_f                           12496 non-null  uint8  \n",
      " 60  Instant Bookable_t                           12496 non-null  uint8  \n",
      " 61  Business Travel Ready_f                      12496 non-null  uint8  \n",
      "dtypes: float64(18), int64(2), object(6), uint8(36)\n",
      "memory usage: 3.0+ MB\n"
     ]
    }
   ],
   "source": [
    "columns_to_convert = [\n",
    "    \"Accomodates\",\n",
    "    \"Bathrooms\",\n",
    "    \"Bedrooms\",\n",
    "    \"Beds\",\n",
    "    \"Guests Included\",\n",
    "    \"Min Nights\"\n",
    "]\n",
    "\n",
    "train_airbnb_df[columns_to_convert] = train_airbnb_df[columns_to_convert].replace('*', np.nan).astype(np.float64)\n",
    "train_airbnb_df.info()"
   ]
  }
 ],
 "metadata": {
  "kernelspec": {
   "display_name": "Python 3.8.13 ('tp1auto')",
   "language": "python",
   "name": "python3"
  },
  "language_info": {
   "codemirror_mode": {
    "name": "ipython",
    "version": 3
   },
   "file_extension": ".py",
   "mimetype": "text/x-python",
   "name": "python",
   "nbconvert_exporter": "python",
   "pygments_lexer": "ipython3",
   "version": "3.8.13"
  },
  "orig_nbformat": 4,
  "vscode": {
   "interpreter": {
    "hash": "ad235716a05b390653e721fded0f955a1ef62cc9e4b4452e05f50514347ee85e"
   }
  }
 },
 "nbformat": 4,
 "nbformat_minor": 2
}
