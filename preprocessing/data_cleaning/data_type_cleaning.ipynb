{
 "cells": [
  {
   "cell_type": "code",
   "execution_count": 223,
   "metadata": {},
   "outputs": [],
   "source": [
    "import pandas as pd\n",
    "import numpy as np\n",
    "\n",
    "train_airbnb_df = pd.read_csv(\"/Users/cha/Desktop/3A/code/ml-project/data/train_airbnb_berlin.csv\")\n",
    "test_airbnb_df = pd.read_csv(\"/Users/cha/Desktop/3A/code/ml-project/data/test_airbnb_berlin.csv\")\n",
    "\n",
    "# Deleting useless features\n",
    "features = [\n",
    "       'Listing ID',\n",
    "       # 'Listing Name',\n",
    "       'Host ID',\n",
    "       # 'Host Name',\n",
    "       'Host Since', # date -> données numériques a partir du plus récent\n",
    "       # 'Host Response Time',\n",
    "       # 'Host Response Rate',\n",
    "       'Is Superhost',\n",
    "       # 'neighbourhood',\n",
    "       # 'Neighborhood Group',\n",
    "       # 'City',  \n",
    "       # 'Postal Code',\n",
    "       'Latitude',\n",
    "       'Longitude',\n",
    "       # 'Country Code',\n",
    "       # 'Country',\n",
    "       'Is Exact Location',\n",
    "       'Property Type',\n",
    "       'Room Type',\n",
    "       'Accomodates',\n",
    "       'Bathrooms',\n",
    "       'Bedrooms',\n",
    "       'Beds',\n",
    "       # 'Square Feet',\n",
    "       'Guests Included',\n",
    "       'Min Nights',\n",
    "       'Reviews',\n",
    "       # 'First Review',\n",
    "       'Last Review', # -> Imputer les dates commes des chiffres a partir du plus récent\n",
    "       'Overall Rating',\n",
    "       'Accuracy Rating',\n",
    "       'Cleanliness Rating',\n",
    "       'Checkin Rating',\n",
    "       'Communication Rating',\n",
    "       'Location Rating',\n",
    "       'Value Rating',\n",
    "       'Instant Bookable',\n",
    "       'Business Travel Ready',\n",
    "       'Price'\n",
    "]\n",
    "\n",
    "train_airbnb_df = train_airbnb_df[features]\n",
    "test_airbnb_df = test_airbnb_df[features[:-1]]"
   ]
  },
  {
   "cell_type": "code",
   "execution_count": 224,
   "metadata": {},
   "outputs": [
    {
     "name": "stdout",
     "output_type": "stream",
     "text": [
      "<class 'pandas.core.frame.DataFrame'>\n",
      "RangeIndex: 15692 entries, 0 to 15691\n",
      "Data columns (total 27 columns):\n",
      " #   Column                 Non-Null Count  Dtype  \n",
      "---  ------                 --------------  -----  \n",
      " 0   Listing ID             15691 non-null  float64\n",
      " 1   Host ID                15692 non-null  float64\n",
      " 2   Host Since             15671 non-null  object \n",
      " 3   Is Superhost           15669 non-null  object \n",
      " 4   Latitude               15692 non-null  float64\n",
      " 5   Longitude              15692 non-null  float64\n",
      " 6   Is Exact Location      15692 non-null  object \n",
      " 7   Property Type          15692 non-null  object \n",
      " 8   Room Type              15692 non-null  object \n",
      " 9   Accomodates            15692 non-null  object \n",
      " 10  Bathrooms              15678 non-null  object \n",
      " 11  Bedrooms               15687 non-null  object \n",
      " 12  Beds                   15684 non-null  object \n",
      " 13  Guests Included        15692 non-null  object \n",
      " 14  Min Nights             15692 non-null  object \n",
      " 15  Reviews                15692 non-null  int64  \n",
      " 16  Last Review            12986 non-null  object \n",
      " 17  Overall Rating         12730 non-null  float64\n",
      " 18  Accuracy Rating        12721 non-null  float64\n",
      " 19  Cleanliness Rating     12722 non-null  float64\n",
      " 20  Checkin Rating         12719 non-null  float64\n",
      " 21  Communication Rating   12722 non-null  float64\n",
      " 22  Location Rating        12721 non-null  float64\n",
      " 23  Value Rating           12720 non-null  float64\n",
      " 24  Instant Bookable       15692 non-null  object \n",
      " 25  Business Travel Ready  15692 non-null  object \n",
      " 26  Price                  15683 non-null  float64\n",
      "dtypes: float64(12), int64(1), object(14)\n",
      "memory usage: 3.2+ MB\n"
     ]
    }
   ],
   "source": [
    "train_airbnb_df.info()"
   ]
  },
  {
   "cell_type": "markdown",
   "metadata": {},
   "source": [
    "### Encoding categorical variables"
   ]
  },
  {
   "cell_type": "markdown",
   "metadata": {},
   "source": [
    "OH for categorical variables with no hierarchy between values"
   ]
  },
  {
   "cell_type": "code",
   "execution_count": 225,
   "metadata": {},
   "outputs": [
    {
     "name": "stdout",
     "output_type": "stream",
     "text": [
      "Number of columns:  44\n",
      "Index(['Listing ID', 'Host ID', 'Host Since', 'Is Superhost', 'Latitude',\n",
      "       'Longitude', 'Is Exact Location', 'Accomodates', 'Bathrooms',\n",
      "       'Bedrooms', 'Beds', 'Guests Included', 'Min Nights', 'Reviews',\n",
      "       'Last Review', 'Overall Rating', 'Accuracy Rating',\n",
      "       'Cleanliness Rating', 'Checkin Rating', 'Communication Rating',\n",
      "       'Location Rating', 'Value Rating', 'Instant Bookable',\n",
      "       'Business Travel Ready', 'Price', 'Property Type_*',\n",
      "       'Property Type_Apartment', 'Property Type_Bed and breakfast',\n",
      "       'Property Type_Boat', 'Property Type_Boutique hotel',\n",
      "       'Property Type_Bungalow', 'Property Type_Condominium',\n",
      "       'Property Type_Guest suite', 'Property Type_Guesthouse',\n",
      "       'Property Type_Hostel', 'Property Type_Hotel', 'Property Type_House',\n",
      "       'Property Type_Loft', 'Property Type_Other',\n",
      "       'Property Type_Serviced apartment', 'Property Type_Townhouse',\n",
      "       'Room Type_Entire home/apt', 'Room Type_Private room',\n",
      "       'Room Type_Shared room'],\n",
      "      dtype='object')\n"
     ]
    }
   ],
   "source": [
    "OH_columns = [\n",
    "    \"Property Type\",\n",
    "    \"Room Type\",\n",
    "] \n",
    "\n",
    "dummies = pd.get_dummies(train_airbnb_df[OH_columns])\n",
    "\n",
    "# Drop the column with the independent and target variable (Salary), and columns for which we created dummy variables\n",
    "train_airbnb_df = train_airbnb_df.drop(OH_columns, axis=1)\n",
    "\n",
    "# Define the feature set X, our matrix data\n",
    "train_airbnb_df = pd.concat([train_airbnb_df, dummies], axis=1)\n",
    "print(\"Number of columns: \", len(train_airbnb_df.columns))\n",
    "print(train_airbnb_df.columns)"
   ]
  },
  {
   "cell_type": "markdown",
   "metadata": {},
   "source": [
    "Encoding for variables with hierarchy between values"
   ]
  },
  {
   "cell_type": "code",
   "execution_count": 226,
   "metadata": {},
   "outputs": [],
   "source": [
    "encoding_columns = [\n",
    "    \"Is Superhost\",\n",
    "    \"Instant Bookable\",\n",
    "    \"Is Exact Location\",\n",
    "    \"Business Travel Ready\"\n",
    "]\n",
    "train_airbnb_df[encoding_columns] = train_airbnb_df[encoding_columns].replace(\"t\", 1).replace(\"f\", 0)"
   ]
  },
  {
   "cell_type": "markdown",
   "metadata": {},
   "source": [
    "Encoding for dates"
   ]
  },
  {
   "cell_type": "code",
   "execution_count": 227,
   "metadata": {},
   "outputs": [],
   "source": [
    "dates_columns = [\"Host Since\", \"Last Review\"]\n",
    "\n",
    "for column in dates_columns:\n",
    "    df = pd.to_datetime(train_airbnb_df[column], format=\"%Y-%m-%d\")\n",
    "    res = min(df)\n",
    "    df = df - res\n",
    "    df = df.dt.days.astype(np.float64)\n",
    "    train_airbnb_df[column] = df"
   ]
  },
  {
   "cell_type": "markdown",
   "metadata": {},
   "source": [
    "### Droping NaN values"
   ]
  },
  {
   "cell_type": "code",
   "execution_count": 228,
   "metadata": {},
   "outputs": [],
   "source": [
    "train_airbnb_df = train_airbnb_df.replace('*', np.nan).dropna()"
   ]
  },
  {
   "cell_type": "markdown",
   "metadata": {},
   "source": [
    "### Conversion to float"
   ]
  },
  {
   "cell_type": "code",
   "execution_count": 229,
   "metadata": {},
   "outputs": [
    {
     "name": "stdout",
     "output_type": "stream",
     "text": [
      "<class 'pandas.core.frame.DataFrame'>\n",
      "Int64Index: 12493 entries, 0 to 15690\n",
      "Data columns (total 44 columns):\n",
      " #   Column                            Non-Null Count  Dtype  \n",
      "---  ------                            --------------  -----  \n",
      " 0   Listing ID                        12493 non-null  float64\n",
      " 1   Host ID                           12493 non-null  float64\n",
      " 2   Host Since                        12493 non-null  uint8  \n",
      " 3   Is Superhost                      12493 non-null  uint8  \n",
      " 4   Latitude                          12493 non-null  float64\n",
      " 5   Longitude                         12493 non-null  float64\n",
      " 6   Is Exact Location                 12493 non-null  uint8  \n",
      " 7   Accomodates                       12493 non-null  float64\n",
      " 8   Bathrooms                         12493 non-null  float64\n",
      " 9   Bedrooms                          12493 non-null  float64\n",
      " 10  Beds                              12493 non-null  float64\n",
      " 11  Guests Included                   12493 non-null  float64\n",
      " 12  Min Nights                        12493 non-null  float64\n",
      " 13  Reviews                           12493 non-null  int64  \n",
      " 14  Last Review                       12493 non-null  uint8  \n",
      " 15  Overall Rating                    12493 non-null  float64\n",
      " 16  Accuracy Rating                   12493 non-null  float64\n",
      " 17  Cleanliness Rating                12493 non-null  float64\n",
      " 18  Checkin Rating                    12493 non-null  float64\n",
      " 19  Communication Rating              12493 non-null  float64\n",
      " 20  Location Rating                   12493 non-null  float64\n",
      " 21  Value Rating                      12493 non-null  float64\n",
      " 22  Instant Bookable                  12493 non-null  uint8  \n",
      " 23  Business Travel Ready             12493 non-null  uint8  \n",
      " 24  Price                             12493 non-null  float64\n",
      " 25  Property Type_*                   12493 non-null  uint8  \n",
      " 26  Property Type_Apartment           12493 non-null  uint8  \n",
      " 27  Property Type_Bed and breakfast   12493 non-null  uint8  \n",
      " 28  Property Type_Boat                12493 non-null  uint8  \n",
      " 29  Property Type_Boutique hotel      12493 non-null  uint8  \n",
      " 30  Property Type_Bungalow            12493 non-null  uint8  \n",
      " 31  Property Type_Condominium         12493 non-null  uint8  \n",
      " 32  Property Type_Guest suite         12493 non-null  uint8  \n",
      " 33  Property Type_Guesthouse          12493 non-null  uint8  \n",
      " 34  Property Type_Hostel              12493 non-null  uint8  \n",
      " 35  Property Type_Hotel               12493 non-null  uint8  \n",
      " 36  Property Type_House               12493 non-null  uint8  \n",
      " 37  Property Type_Loft                12493 non-null  uint8  \n",
      " 38  Property Type_Other               12493 non-null  uint8  \n",
      " 39  Property Type_Serviced apartment  12493 non-null  uint8  \n",
      " 40  Property Type_Townhouse           12493 non-null  uint8  \n",
      " 41  Room Type_Entire home/apt         12493 non-null  uint8  \n",
      " 42  Room Type_Private room            12493 non-null  uint8  \n",
      " 43  Room Type_Shared room             12493 non-null  uint8  \n",
      "dtypes: float64(18), int64(1), uint8(25)\n",
      "memory usage: 2.2 MB\n"
     ]
    }
   ],
   "source": [
    "float_columns = [\n",
    "    \"Accomodates\",\n",
    "    \"Bathrooms\",\n",
    "    \"Bedrooms\",\n",
    "    \"Beds\",\n",
    "    \"Guests Included\",\n",
    "    \"Min Nights\"\n",
    "]\n",
    "\n",
    "train_airbnb_df[encoding_columns + dates_columns] = train_airbnb_df[encoding_columns + dates_columns].astype(np.uint8)\n",
    "train_airbnb_df[float_columns] = train_airbnb_df[float_columns].astype(np.float64)\n",
    "train_airbnb_df.info()"
   ]
  }
 ],
 "metadata": {
  "kernelspec": {
   "display_name": "Python 3.8.13 ('tp1auto')",
   "language": "python",
   "name": "python3"
  },
  "language_info": {
   "codemirror_mode": {
    "name": "ipython",
    "version": 3
   },
   "file_extension": ".py",
   "mimetype": "text/x-python",
   "name": "python",
   "nbconvert_exporter": "python",
   "pygments_lexer": "ipython3",
   "version": "3.8.13"
  },
  "orig_nbformat": 4,
  "vscode": {
   "interpreter": {
    "hash": "ad235716a05b390653e721fded0f955a1ef62cc9e4b4452e05f50514347ee85e"
   }
  }
 },
 "nbformat": 4,
 "nbformat_minor": 2
}
